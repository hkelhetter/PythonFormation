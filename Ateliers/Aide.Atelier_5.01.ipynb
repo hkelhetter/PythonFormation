{
 "cells": [
  {
   "cell_type": "code",
   "execution_count": 21,
   "id": "9eacbc9c-004f-4c43-840d-b15d075ba8c2",
   "metadata": {},
   "outputs": [],
   "source": [
    "continuer = True\n",
    "\n",
    "def f01(): \n",
    "    print('f01')\n",
    "    return 'f01'\n",
    "\n",
    "\n",
    "def f02(): \n",
    "    print('f02')\n",
    "    return 'f02'\n",
    "\n",
    "\n",
    "def f03(): \n",
    "    print('f03')\n",
    "    return 'f03'\n",
    "\n",
    "\n",
    "def f04(): \n",
    "    print('f04')\n",
    "    return 'f04'\n",
    "\n",
    "def exitMenu():\n",
    "    global continuer\n",
    "    print('exitMenu')\n",
    "    continuer = False\n",
    "    return 'autre'\n",
    "\n",
    "\n",
    "m = {'f01':f01,'f02':f02,'f03':f03,'f04':f04}    "
   ]
  },
  {
   "cell_type": "code",
   "execution_count": 22,
   "id": "b4b7abdb-049a-4f2e-a37c-a782cb83d292",
   "metadata": {},
   "outputs": [
    {
     "data": {
      "text/plain": [
       "<function __main__.exitMenu()>"
      ]
     },
     "execution_count": 22,
     "metadata": {},
     "output_type": "execute_result"
    }
   ],
   "source": [
    "m.get('f201',exitMenu)"
   ]
  },
  {
   "cell_type": "code",
   "execution_count": 24,
   "id": "4c25e159-f773-45a3-ac0f-dbecfbb048c7",
   "metadata": {},
   "outputs": [
    {
     "name": "stdin",
     "output_type": "stream",
     "text": [
      "nom fonction : f01\n"
     ]
    },
    {
     "name": "stdout",
     "output_type": "stream",
     "text": [
      "f01\n"
     ]
    },
    {
     "name": "stdin",
     "output_type": "stream",
     "text": [
      "nom fonction : f02\n"
     ]
    },
    {
     "name": "stdout",
     "output_type": "stream",
     "text": [
      "f02\n"
     ]
    },
    {
     "name": "stdin",
     "output_type": "stream",
     "text": [
      "nom fonction : f03\n"
     ]
    },
    {
     "name": "stdout",
     "output_type": "stream",
     "text": [
      "f03\n"
     ]
    },
    {
     "name": "stdin",
     "output_type": "stream",
     "text": [
      "nom fonction : f05\n"
     ]
    },
    {
     "name": "stdout",
     "output_type": "stream",
     "text": [
      "exitMenu\n"
     ]
    }
   ],
   "source": [
    "continuer = True\n",
    "while continuer:\n",
    "    f = input('nom fonction :')\n",
    "    m.get(f,exitMenu)()"
   ]
  }
 ],
 "metadata": {
  "kernelspec": {
   "display_name": "Python 3 (ipykernel)",
   "language": "python",
   "name": "python3"
  },
  "language_info": {
   "codemirror_mode": {
    "name": "ipython",
    "version": 3
   },
   "file_extension": ".py",
   "mimetype": "text/x-python",
   "name": "python",
   "nbconvert_exporter": "python",
   "pygments_lexer": "ipython3",
   "version": "3.12.4"
  }
 },
 "nbformat": 4,
 "nbformat_minor": 5
}
