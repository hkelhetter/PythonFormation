{
 "cells": [
  {
   "cell_type": "markdown",
   "id": "9f0deb9b-2a80-4d38-a4f7-a6b7e6d29bd5",
   "metadata": {},
   "source": [
    "# Exercice 1"
   ]
  },
  {
   "cell_type": "code",
   "execution_count": 1,
   "id": "66fb1a5c-3b1d-4d61-a7aa-b953a6e94c69",
   "metadata": {
    "scrolled": true
   },
   "outputs": [
    {
     "name": "stdout",
     "output_type": "stream",
     "text": [
      "7\n",
      "14\n",
      "21 *\n",
      "28\n",
      "35\n",
      "42 *\n",
      "49\n",
      "56\n",
      "63 *\n",
      "70\n",
      "77\n",
      "84 *\n",
      "91\n",
      "98\n",
      "105 *\n",
      "112\n",
      "119\n",
      "126 *\n",
      "133\n",
      "140\n"
     ]
    }
   ],
   "source": [
    "for i in range(1,21):\n",
    "\tt = i * 7\n",
    "\tif t % 3 == 0:\n",
    "\t\tprint (t,\"*\")\n",
    "\telse:\n",
    "\t\tprint (t)"
   ]
  },
  {
   "cell_type": "markdown",
   "id": "d7c68af2-9d47-43bf-baad-e01a0e7341a3",
   "metadata": {},
   "source": [
    "# Exercice 2"
   ]
  },
  {
   "cell_type": "code",
   "execution_count": 2,
   "id": "58a531b9-d591-47d5-8480-bc2caf39acc0",
   "metadata": {},
   "outputs": [
    {
     "name": "stdin",
     "output_type": "stream",
     "text": [
      "entrer un entier  2\n",
      "entrer un entier  5\n"
     ]
    },
    {
     "name": "stdout",
     "output_type": "stream",
     "text": [
      "10\n"
     ]
    }
   ],
   "source": [
    "a = int(input(\"entrer un entier \"))\n",
    "b = int(input(\"entrer un entier \"))\n",
    "\n",
    "res = 0\n",
    "for i in range(b):\n",
    "\tres += a\n",
    "\n",
    "print(res)"
   ]
  },
  {
   "cell_type": "markdown",
   "id": "cc34f784-6cce-41a4-83ef-39ba20ef73a3",
   "metadata": {},
   "source": [
    "# Exercice 3"
   ]
  },
  {
   "cell_type": "code",
   "execution_count": 3,
   "id": "d7ea6ab4-0a4e-4beb-ba76-bdc2b8b11298",
   "metadata": {},
   "outputs": [
    {
     "name": "stdin",
     "output_type": "stream",
     "text": [
      "Enter un mot merci\n"
     ]
    },
    {
     "name": "stdout",
     "output_type": "stream",
     "text": [
      "5\n"
     ]
    },
    {
     "name": "stdin",
     "output_type": "stream",
     "text": [
      "Enter un mot end\n"
     ]
    }
   ],
   "source": [
    "mot = ''\n",
    "while mot != 'end':\n",
    "\tmot = input(\"Enter un mot\")\n",
    "\tif mot != 'end':\n",
    "\t\tprint(len(mot))"
   ]
  },
  {
   "cell_type": "markdown",
   "id": "5be28a58-93dc-4c8f-ba61-c2663e04c864",
   "metadata": {},
   "source": [
    "# Exercice 4"
   ]
  },
  {
   "cell_type": "code",
   "execution_count": 6,
   "id": "2ff23221-3c9a-4a9d-853d-02704ef5cc60",
   "metadata": {},
   "outputs": [
    {
     "name": "stdin",
     "output_type": "stream",
     "text": [
      "Enter un entier 3\n"
     ]
    },
    {
     "name": "stdout",
     "output_type": "stream",
     "text": [
      "0\n",
      "1\n",
      "4\n"
     ]
    }
   ],
   "source": [
    "n = input(\"Enter un entier\")\n",
    "for i in range(int(n)):\n",
    "\tprint(i**2)"
   ]
  },
  {
   "cell_type": "markdown",
   "id": "539901b7-d5fa-48cc-b358-1f9bcb019436",
   "metadata": {},
   "source": [
    "# Exercice 5"
   ]
  },
  {
   "cell_type": "code",
   "execution_count": 7,
   "id": "2b779d06-1468-40dd-97b6-93754cb1f6d4",
   "metadata": {},
   "outputs": [
    {
     "name": "stdout",
     "output_type": "stream",
     "text": [
      "1 2 Fizz 4 Buzz Fizz 7 8 Fizz Buzz \n",
      "11 Fizz 13 14 FizzBuzz 16 17 Fizz 19 Buzz \n",
      "Fizz 22 23 Fizz Buzz 26 Fizz 28 29 FizzBuzz \n",
      "31 32 Fizz 34 Buzz Fizz 37 38 Fizz Buzz \n",
      "41 Fizz 43 44 FizzBuzz 46 47 Fizz 49 Buzz \n",
      "Fizz 52 53 Fizz Buzz 56 Fizz 58 59 FizzBuzz \n",
      "61 62 Fizz 64 Buzz Fizz 67 68 Fizz Buzz \n",
      "71 Fizz 73 74 FizzBuzz 76 77 Fizz 79 Buzz \n",
      "Fizz 82 83 Fizz Buzz 86 Fizz 88 89 FizzBuzz \n",
      "91 92 Fizz 94 Buzz Fizz 97 98 Fizz Buzz \n"
     ]
    }
   ],
   "source": [
    "for i in range(1,101):\n",
    "\tif i % 3 == 0 :\n",
    "\t\tprint(\"Fizz\", end='')\n",
    "\t\tif i % 5 == 0 :\n",
    "\t\t\tprint('Buzz', end=' ')\n",
    "\t\telse :\n",
    "\t\t\tprint(\" \", end='')\n",
    "\telif i % 5 == 0 :\n",
    "\t\tprint('Buzz ', end='')\n",
    "\telse :\n",
    "\t\tprint(i, end=' ')\n",
    "\tif i % 10 == 0 :\n",
    "\t\tprint()"
   ]
  },
  {
   "cell_type": "markdown",
   "id": "9ea7b6bc-84d6-4d9a-aa55-24747c129744",
   "metadata": {},
   "source": [
    "# Exercice 6"
   ]
  },
  {
   "cell_type": "code",
   "execution_count": 10,
   "id": "a83c40b6-5280-47e9-bf70-903ac68e0c01",
   "metadata": {},
   "outputs": [
    {
     "name": "stdin",
     "output_type": "stream",
     "text": [
      "entrer un mot \n",
      "radar, rotor, kayak, été, ici, tôt, rêver, réifier, ressasser radar\n"
     ]
    },
    {
     "name": "stdout",
     "output_type": "stream",
     "text": [
      "palindrome\n"
     ]
    }
   ],
   "source": [
    "mot = input(\"entrer un mot \\nradar, rotor, kayak, été, ici, tôt, rêver, réifier, ressasser\")\n",
    "\n",
    "palindrome = True\n",
    "\n",
    "for i in range(len(mot) // 2):\n",
    "\tif mot[i] != mot[len(mot)-1-i]:\n",
    "\t\tpalindrome = False\n",
    "\t\tbreak\n",
    "\n",
    "if palindrome:\n",
    "\tprint(\"palindrome\")\n",
    "else:\n",
    "\tprint(\"nop\")"
   ]
  },
  {
   "cell_type": "markdown",
   "id": "ca7cbf9d-b97f-4c71-bbd0-50fc1cdd0fc4",
   "metadata": {},
   "source": [
    "# Exercice 7"
   ]
  },
  {
   "cell_type": "code",
   "execution_count": 3,
   "id": "d01f1220-e312-4746-b560-70588b4ea8d4",
   "metadata": {},
   "outputs": [
    {
     "name": "stdout",
     "output_type": "stream",
     "text": [
      "*\n",
      "**\n",
      "***\n",
      "****\n",
      "*****\n",
      "******\n",
      "*******\n",
      "********\n"
     ]
    }
   ],
   "source": [
    "n = 8\n",
    "for i in range(1,n+1):\n",
    "    print(\"*\" * i)"
   ]
  },
  {
   "cell_type": "code",
   "execution_count": 4,
   "id": "63c5a193-c950-4d4a-b257-9cb0425ba4e2",
   "metadata": {},
   "outputs": [
    {
     "name": "stdout",
     "output_type": "stream",
     "text": [
      "*\n",
      "**\n",
      "***\n",
      "****\n",
      "*****\n",
      "******\n",
      "*******\n",
      "********\n"
     ]
    }
   ],
   "source": [
    "i = 1\n",
    "n = 8\n",
    "while i <= 8 :\n",
    "    print(\"*\" * i)\n",
    "    i += 1"
   ]
  },
  {
   "cell_type": "markdown",
   "id": "b38d0045-ccda-4f3b-b76f-2841bd868b2c",
   "metadata": {},
   "source": [
    "# Exercice 8"
   ]
  },
  {
   "cell_type": "code",
   "execution_count": 1,
   "id": "d6454094-05e2-4406-9a44-766b16c353bb",
   "metadata": {},
   "outputs": [
    {
     "name": "stdout",
     "output_type": "stream",
     "text": [
      "                    *\n",
      "                   ***\n",
      "                  *****\n",
      "                 *******\n",
      "                *********\n",
      "               ***********\n",
      "              *************\n",
      "             ***************\n",
      "            *****************\n",
      "           *******************\n",
      "          *********************\n",
      "         ***********************\n",
      "        *************************\n",
      "       ***************************\n",
      "      *****************************\n",
      "     *******************************\n",
      "    *********************************\n",
      "   ***********************************\n",
      "  *************************************\n",
      " ***************************************\n",
      "*****************************************\n"
     ]
    }
   ],
   "source": [
    "n = 21\n",
    "cpt_star = 1\n",
    "esp = ((n - 1) * 2 )// 2  # division entière obligatoire pour le * sur les str\n",
    "for i in range(n) :\n",
    "    print(' ' * esp+\"*\" * cpt_star)\n",
    "    cpt_star += 2\n",
    "    esp -= 1"
   ]
  },
  {
   "cell_type": "code",
   "execution_count": 21,
   "id": "c8ab86ed-690c-490a-a050-e34f7acb8508",
   "metadata": {},
   "outputs": [
    {
     "name": "stdout",
     "output_type": "stream",
     "text": [
      "                    *\n",
      "                   ***\n",
      "                  *****\n",
      "                 *******\n",
      "                *********\n",
      "               ***********\n",
      "              *************\n",
      "             ***************\n",
      "            *****************\n",
      "           *******************\n",
      "          *********************\n",
      "         ***********************\n",
      "        *************************\n",
      "       ***************************\n",
      "      *****************************\n",
      "     *******************************\n",
      "    *********************************\n",
      "   ***********************************\n",
      "  *************************************\n",
      " ***************************************\n",
      "*****************************************\n"
     ]
    }
   ],
   "source": [
    "n = 21\n",
    "cpt_star = 1\n",
    "esp = ((n - 1) * 2 )// 2  # division entière obligatoire pour le * sur les str\n",
    "for i in range(n) :\n",
    "    print(' ' * esp, end='')\n",
    "    print(\"*\" * cpt_star)\n",
    "    cpt_star += 2\n",
    "    esp -= 1"
   ]
  }
 ],
 "metadata": {
  "kernelspec": {
   "display_name": "Python 3 (ipykernel)",
   "language": "python",
   "name": "python3"
  },
  "language_info": {
   "codemirror_mode": {
    "name": "ipython",
    "version": 3
   },
   "file_extension": ".py",
   "mimetype": "text/x-python",
   "name": "python",
   "nbconvert_exporter": "python",
   "pygments_lexer": "ipython3",
   "version": "3.10.13"
  }
 },
 "nbformat": 4,
 "nbformat_minor": 5
}
