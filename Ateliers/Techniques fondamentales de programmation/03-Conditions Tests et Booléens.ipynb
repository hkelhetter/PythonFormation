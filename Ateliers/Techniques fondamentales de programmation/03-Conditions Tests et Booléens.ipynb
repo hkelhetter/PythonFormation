{
 "cells": [
  {
   "cell_type": "markdown",
   "id": "3ba68969-664d-471f-bc2c-761c1257ec0c",
   "metadata": {},
   "source": [
    "# Exercice 1"
   ]
  },
  {
   "cell_type": "code",
   "execution_count": null,
   "id": "a7f74e75-0090-4937-a85d-0b14774bd574",
   "metadata": {},
   "outputs": [],
   "source": [
    "montant = int(input(\"Entrez votre montant : \"))\n",
    "\n",
    "if montant >= 100 and montant <= 500 :\n",
    "\tmontant = montant - (montant * 0.05)\n",
    "elif montant > 500 :\n",
    "\tmontant = montant - (montant * 0.08)\n",
    "    \n",
    "print(\"Vous devez :\", montant)"
   ]
  },
  {
   "cell_type": "code",
   "execution_count": null,
   "id": "f3b1926c-c9ad-43bf-83c0-1d090638e7d1",
   "metadata": {},
   "outputs": [],
   "source": [
    "montant = int(input(\"Entrez votre montant : \"))\n",
    "\n",
    "if montant > 100 :\n",
    "\tif montant > 500 :\n",
    "\t\tmontant = montant - (montant * 0.08)\n",
    "\telse :\n",
    "\t\tmontant = montant - (montant * 0.05)\n",
    "print(\"Vous devez :\", montant)"
   ]
  },
  {
   "cell_type": "markdown",
   "id": "dd273a3d-7dde-4fab-94fb-2b3314d20d73",
   "metadata": {},
   "source": [
    "# Exercice 2"
   ]
  },
  {
   "cell_type": "code",
   "execution_count": null,
   "id": "60d5a602-05d9-4ad8-8ded-2ef8c2f15bcc",
   "metadata": {},
   "outputs": [],
   "source": [
    "x = int(input(\"Enter un entier : \"))\n",
    "y = int(input(\"Enter un entier : \"))\n",
    "z = int(input(\"Enter un entier : \"))\n",
    "\n",
    "if x > y:\n",
    "\ttmp = x\n",
    "\tx = y\n",
    "\ty = tmp\n",
    "if y > z :\n",
    "\ttmp = y\n",
    "\ty = z\n",
    "\tz = tmp\n",
    "if x > y:\n",
    "\ttmp = x\n",
    "\tx = y\n",
    "\ty = tmp\n",
    "\n",
    "print(x,y,z)"
   ]
  },
  {
   "cell_type": "markdown",
   "id": "c7eef8b3-adeb-4a3d-a99c-cb1b115a3cd0",
   "metadata": {},
   "source": [
    "# Exercice 3"
   ]
  },
  {
   "cell_type": "code",
   "execution_count": 16,
   "id": "6d391e39-dffb-4aba-9cb2-3124ece474ff",
   "metadata": {},
   "outputs": [
    {
     "name": "stdin",
     "output_type": "stream",
     "text": [
      "entrer un nombre  a\n",
      "entrer un nombre  b\n"
     ]
    },
    {
     "name": "stdout",
     "output_type": "stream",
     "text": [
      "a=-1\n",
      "b=-1\n",
      "a x b =1\n",
      "positif\n"
     ]
    }
   ],
   "source": [
    "a = eval(input(\"entrer un nombre \"))\n",
    "b = eval(input(\"entrer un nombre \"))\n",
    "print(f'a={a}\\nb={b}\\na x b ={a*b}')\n",
    "\n",
    "if ( a > 0 and b > 0 ) or ( a < 0 and b < 0 ):\n",
    "    print(\"positif\")\n",
    "elif a == 0 or b == 0:\n",
    "    print(\"nulle\")\n",
    "else:\n",
    "    print(\"negatif\")"
   ]
  },
  {
   "cell_type": "code",
   "execution_count": 13,
   "id": "76722e15-6c68-4f67-92aa-6c21a3fae2b2",
   "metadata": {},
   "outputs": [
    {
     "name": "stdin",
     "output_type": "stream",
     "text": [
      "entrer un nombre  -1\n",
      "entrer un nombre  -1\n"
     ]
    },
    {
     "name": "stdout",
     "output_type": "stream",
     "text": [
      "positif\n"
     ]
    }
   ],
   "source": [
    "a = eval(input(\"entrer un nombre \"))\n",
    "b = eval(input(\"entrer un nombre \"))\n",
    "\n",
    "print(\"nulle\" if a == 0 or b == 0 else \"positif\" if ( a > 0 and b > 0 ) or ( a < 0 and b < 0 ) else \"negatif\")"
   ]
  },
  {
   "cell_type": "markdown",
   "id": "75eae5cd-e99d-4179-a27f-d3e9577e8b80",
   "metadata": {},
   "source": [
    "# Exercice 4"
   ]
  },
  {
   "cell_type": "code",
   "execution_count": 6,
   "id": "a67dd08f-152b-4b80-bbb0-43641f519885",
   "metadata": {},
   "outputs": [
    {
     "name": "stdout",
     "output_type": "stream",
     "text": [
      "Veuillez entrer l'année à tester : "
     ]
    },
    {
     "name": "stdin",
     "output_type": "stream",
     "text": [
      " 1900\n"
     ]
    },
    {
     "name": "stdout",
     "output_type": "stream",
     "text": [
      "L'année 1900 n'est pas bissextile.\n"
     ]
    },
    {
     "name": "stdin",
     "output_type": "stream",
     "text": [
      "Veuillez entrer une année :  a\n"
     ]
    },
    {
     "name": "stdout",
     "output_type": "stream",
     "text": [
      "1900 n'est pas une année bissextile\n"
     ]
    }
   ],
   "source": [
    "# Années bissextiles\n",
    "print(\"Veuillez entrer l'année à tester :\", end=' ')\n",
    "a = eval(input())\n",
    "\n",
    "if a % 4 != 0:\n",
    "\t# a n'est pas divisible par 4 -> année non bissextile\n",
    "\tbs = 0\n",
    "else:\n",
    "\tif a % 400 ==0:\n",
    "\t\t# a divisible par 400 -> année bissextile\n",
    "\t\tbs = 1\n",
    "\telif a % 100 ==0:\n",
    "\t\t# a divisible par 100 -> année non bissextile\n",
    "\t\tbs = 0\n",
    "\telse:\n",
    "\t\t# autres cas ou a est divisible par 4 -> année bissextile\n",
    "\t\tbs = 1\n",
    "\n",
    "if bs ==1:\n",
    "\tch = \"est\"\n",
    "else:\n",
    "\tch = \"n'est pas\"\n",
    "print(\"L'année\", a, ch, \"bissextile.\")\n",
    "\n",
    "\n",
    "########### Variante : ###########\n",
    "a = eval(input('Veuillez entrer une année : '))\n",
    "if (a%4==0) and ((a%100!=0) or (a%400==0)):\n",
    "\tprint(a,\"est une année bissextile\")\n",
    "else:\n",
    "\tprint(a,\"n'est pas une année bissextile\")"
   ]
  }
 ],
 "metadata": {
  "kernelspec": {
   "display_name": "Python 3 (ipykernel)",
   "language": "python",
   "name": "python3"
  },
  "language_info": {
   "codemirror_mode": {
    "name": "ipython",
    "version": 3
   },
   "file_extension": ".py",
   "mimetype": "text/x-python",
   "name": "python",
   "nbconvert_exporter": "python",
   "pygments_lexer": "ipython3",
   "version": "3.10.13"
  }
 },
 "nbformat": 4,
 "nbformat_minor": 5
}
