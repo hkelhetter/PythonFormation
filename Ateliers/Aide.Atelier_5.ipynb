{
 "cells": [
  {
   "cell_type": "code",
   "execution_count": 15,
   "id": "9eacbc9c-004f-4c43-840d-b15d075ba8c2",
   "metadata": {},
   "outputs": [],
   "source": [
    "def f01(): \n",
    "    return 'f01'\n",
    "def f02(): \n",
    "    return 'f02'\n",
    "def f03(): \n",
    "    return 'f03'\n",
    "def f04(): \n",
    "    return 'f04'\n",
    "m = {'f01':f01,'f02':f02,'f03':f03,'f04':f04}    "
   ]
  },
  {
   "cell_type": "code",
   "execution_count": 16,
   "id": "e11e32f7-db17-420f-9321-54cceb5a2dcc",
   "metadata": {},
   "outputs": [
    {
     "data": {
      "text/plain": [
       "{'f01': <function __main__.f01()>,\n",
       " 'f02': <function __main__.f02()>,\n",
       " 'f03': <function __main__.f03()>,\n",
       " 'f04': <function __main__.f04()>}"
      ]
     },
     "execution_count": 16,
     "metadata": {},
     "output_type": "execute_result"
    }
   ],
   "source": [
    "m"
   ]
  },
  {
   "cell_type": "code",
   "execution_count": 23,
   "id": "f31bead9-505a-4aa4-8473-6fe1400c720b",
   "metadata": {},
   "outputs": [
    {
     "name": "stdout",
     "output_type": "stream",
     "text": [
      "<function f01 at 0x0000018D776A16C0>\n",
      "\tl’identifiant de la fonction 1707105457856\n",
      "\tle résultat de l’exécution f01\n",
      "<function f02 at 0x0000018D776A1480>\n",
      "\tl’identifiant de la fonction 1707105457280\n",
      "\tle résultat de l’exécution f02\n",
      "<function f03 at 0x0000018D776A0C10>\n",
      "\tl’identifiant de la fonction 1707105455120\n",
      "\tle résultat de l’exécution f03\n",
      "<function f04 at 0x0000018D776A1F30>\n",
      "\tl’identifiant de la fonction 1707105460016\n",
      "\tle résultat de l’exécution f04\n"
     ]
    }
   ],
   "source": [
    "for i in m : print(f\"{m[i]}\\n\\tl’identifiant de la fonction {id(m[i])}\\n\\tle résultat de l’exécution {m[i]()}\")"
   ]
  }
 ],
 "metadata": {
  "kernelspec": {
   "display_name": "Python 3 (ipykernel)",
   "language": "python",
   "name": "python3"
  },
  "language_info": {
   "codemirror_mode": {
    "name": "ipython",
    "version": 3
   },
   "file_extension": ".py",
   "mimetype": "text/x-python",
   "name": "python",
   "nbconvert_exporter": "python",
   "pygments_lexer": "ipython3",
   "version": "3.10.0"
  }
 },
 "nbformat": 4,
 "nbformat_minor": 5
}
