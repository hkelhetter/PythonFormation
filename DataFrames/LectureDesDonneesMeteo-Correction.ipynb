{
 "cells": [
  {
   "cell_type": "code",
   "execution_count": 1,
   "id": "505bd272-a205-466a-b779-59bd53092ba6",
   "metadata": {},
   "outputs": [],
   "source": [
    "import pandas as pd, os, time"
   ]
  },
  {
   "cell_type": "code",
   "execution_count": 2,
   "id": "8bfee08e-74cc-4f1c-b0d8-d70f8ba8ef0e",
   "metadata": {},
   "outputs": [],
   "source": [
    "def tempsExecution(func):\n",
    "    def chronometrerExécution(*_args, **_kwargs): \n",
    "        t0 = time.perf_counter()\n",
    "        result = func(*_args, **_kwargs) \n",
    "        elapsed = time.perf_counter() - t0\n",
    "        name = func.__name__\n",
    "        args = ', '.join(repr(arg) for arg in _args) \\\n",
    "               if len(_args) == 1 \\\n",
    "               else ', '.join(arg+'='+repr(_kwargs[arg]) for arg in _kwargs)\n",
    "        print(f'exécution {elapsed:0.8f}s\\nfonction {name}({args})')\n",
    "        return result\n",
    "    return chronometrerExécution"
   ]
  },
  {
   "cell_type": "code",
   "execution_count": 3,
   "id": "81ff41f7-b2fd-495e-b3b3-37a0448603a7",
   "metadata": {},
   "outputs": [],
   "source": [
    "@tempsExecution\n",
    "def lectureFichiersMeteo(repertoire='../donnees/meteo'):\n",
    "    meteo = pd.concat([ pd.read_csv(fichier,\n",
    "                           sep=';',\n",
    "                           usecols=['numer_sta','date','dd','ff','t','u','vv',\n",
    "                                    'pres','rr1','rr3','rr6','rr12','rr24'],\n",
    "                           na_values='mq',\n",
    "                           dtype={'numer_sta':str,'date':str},\n",
    "                          ).rename( columns={'numer_sta':'Station',\n",
    "                                              'date':'DateHeure',\n",
    "                                              'dd':'DirectionVent',\n",
    "                                              'ff':'VitesseVent',\n",
    "                                              't':'Temperature',\n",
    "                                              'u':'Humidite',\n",
    "                                              'vv':'Visibilite',\n",
    "                                              'pres':'Pression',\n",
    "                                              'rr1' :'Precipitation01',\n",
    "                                              'rr3' :'Precipitation03',\n",
    "                                              'rr6' :'Precipitation06',\n",
    "                                              'rr12':'Precipitation12',\n",
    "                                              'rr24':'Precipitation24'}) \n",
    "                         for fichier in [ f'{dirname}{os.sep}{filename}' for dirname, dirnames, filenames in os.walk(repertoire) \n",
    "                                                                         for filename in filenames]])\n",
    "    meteo.reset_index().drop(columns='index',inplace=True)\n",
    "    meteo[\"DateHeure\"] = pd.to_datetime(meteo[\"DateHeure\"], format='%Y%m%d%H%M%S')\n",
    "    meteo.Temperature  = meteo.Temperature - 273.15\n",
    "    meteo.Pression     = meteo.Pression / 100\n",
    "    meteo.Visibilite   = meteo.Visibilite / 1000\n",
    "    meteo['Mois']      = meteo.DateHeure.dt.month\n",
    "    meteo['Annee']     = meteo.DateHeure.dt.year\n",
    "    meteo['AnneeMois'] = meteo.DateHeure.dt.year*100 + meteo.DateHeure.dt.month\n",
    "    meteo['Semaine']   = meteo.DateHeure.dt.isocalendar().week\n",
    "    meteo['MoisJour']  = meteo.DateHeure.dt.month*100 + meteo.DateHeure.dt.day\n",
    "    meteo['JourA']     = meteo.DateHeure.dt.dayofyear\n",
    "    return meteo\n",
    "    "
   ]
  },
  {
   "cell_type": "code",
   "execution_count": 4,
   "id": "51edb7a1-f99f-4a13-a4ce-204c8fc26cdd",
   "metadata": {},
   "outputs": [
    {
     "name": "stdout",
     "output_type": "stream",
     "text": [
      "exécution 6.29886098s\n",
      "fonction lectureFichiersMeteo(repertoire='../donnees/meteo')\n"
     ]
    }
   ],
   "source": [
    "meteo = lectureFichiersMeteo(repertoire='../donnees/meteo')"
   ]
  },
  {
   "cell_type": "code",
   "execution_count": 5,
   "id": "64d30abc-29d6-4dba-96bb-194c5351ac2a",
   "metadata": {},
   "outputs": [],
   "source": [
    "meteo.to_parquet('meteo.gzip',compression='gzip', engine='pyarrow')"
   ]
  }
 ],
 "metadata": {
  "kernelspec": {
   "display_name": "Python 3 (ipykernel)",
   "language": "python",
   "name": "python3"
  },
  "language_info": {
   "codemirror_mode": {
    "name": "ipython",
    "version": 3
   },
   "file_extension": ".py",
   "mimetype": "text/x-python",
   "name": "python",
   "nbconvert_exporter": "python",
   "pygments_lexer": "ipython3",
   "version": "3.10.0"
  }
 },
 "nbformat": 4,
 "nbformat_minor": 5
}
