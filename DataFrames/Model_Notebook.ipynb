{
 "cells": [
  {
   "cell_type": "markdown",
   "id": "a88a85ea-459d-4b63-8453-e37fb2c717d9",
   "metadata": {},
   "source": [
    "# Import librairies"
   ]
  },
  {
   "cell_type": "code",
   "execution_count": 1,
   "id": "dd211d47-4c06-47a4-870f-88aa2b3316ee",
   "metadata": {},
   "outputs": [],
   "source": [
    "import pandas as pd, numpy as np, os, warnings, seaborn as sns\n",
    "import matplotlib.pyplot as plt\n",
    "import matplotlib.font_manager as fm\n",
    "font1 = fm.FontProperties(size=20)\n",
    "font2 = fm.FontProperties(size=24)\n",
    "\n",
    "%matplotlib inline\n",
    "\n",
    "if int(str(sns.__version__).split('.')[1]) > 8 : \n",
    "    plt.style.use('seaborn-v0_8-darkgrid')\n",
    "else:\n",
    "    plt.style.use('seaborn-darkgrid')\n",
    "    \n",
    "sns.set(font_scale=2)\n",
    "warnings.filterwarnings(action=\"ignore\")\n"
   ]
  },
  {
   "cell_type": "markdown",
   "id": "a37930a5-75f8-4b89-af78-3832a4030044",
   "metadata": {},
   "source": [
    "# Outils"
   ]
  },
  {
   "cell_type": "code",
   "execution_count": 2,
   "id": "71328cb4-ee61-403e-9e77-423866d4a1a0",
   "metadata": {},
   "outputs": [
    {
     "data": {
      "image/png": "[encoded data removed]",
      "text/plain": [
       "<Figure size 1100x100 with 1 Axes>"
      ]
     },
     "metadata": {},
     "output_type": "display_data"
    }
   ],
   "source": [
    "palette = [ \"#030aa7\", \"#e50000\", \"#d8863b\", \"#005f6a\", \"#6b7c85\", \"#751973\",\n",
    "            \"#f5054f\", \n",
    "            \"#030aa7\", \"#e50000\", \"#d8863b\", \"#005f6a\", \"#6b7c85\", \"#751973\", \"#d1e5f0\", \"#fddbc7\",\n",
    "            \"#ffffcb\", \"#12e193\", \"#d8dcd6\", \"#ffdaf0\", \"#dfc5fe\", \"#f5054f\", \"#a0450e\",\n",
    "            \"#0339f8\", \"#f4320c\", \"#fec615\", \"#017a79\", \"#85a3b2\", \"#fe2f4a\", \"#a00498\", \"#b04e0f\",\n",
    "            \"#0165fc\", \"#ff724c\", \"#fddc5c\", \"#11875d\", \"#89a0b0\", \"#fe828c\", \"#cb00f5\", \"#b75203\",\n",
    "            \"#0485d1\", \"#ff7855\", \"#fbeeac\", \"#0cb577\", \"#95a3a6\", \"#ffb7ce\", \"#c071fe\", \"#ca6b02\",\n",
    "            \"#92c5de\", \"#f4a582\", \"#fef69e\", \"#18d17b\", \"#c5c9c7\", \"#ffcfdc\", \"#caa0ff\", \"#cb7723\",\n",
    "            \"#d1e5f0\", \"#fddbc7\", \"#ffffcb\", \"#12e193\", \"#d8dcd6\", \"#ffdaf0\", \"#dfc5fe\", \"#d8863b\",\n",
    "            \"#030764\", \"#be0119\", \"#dbb40c\", \"#005249\", \"#3c4142\", \"#cb0162\", \"#5d1451\", \"#653700\",\n",
    "            \"#040348\", \"#67001f\", \"#b27a01\", \"#002d04\", \"#000000\", \"#a0025c\", \"#490648\", \"#3c0008\"\n",
    "          ]\n",
    "palette = ['#b2182b','#008827','#053061','#ffa500', '#34495e', '#e74c3c', \n",
    "          '#9b59b6', '#0165fc','#2ecc71', '#cb7723', '#89a0b0']\n",
    "sns.palplot(sns.color_palette(palette))"
   ]
  },
  {
   "cell_type": "code",
   "execution_count": 3,
   "id": "63b6287b-2953-469c-be14-73ba1fd327d1",
   "metadata": {},
   "outputs": [],
   "source": [
    "from datetime import datetime as dt\n",
    "\n",
    "repertoireRacine  = '.'\n",
    "nomProjet         = 'Model_Notebook'\n",
    "\n",
    "repertoireProjet  = os.path.join(repertoireRacine, nomProjet)\n",
    "repertoireDonnees = os.path.join(repertoireProjet, 'repertoire.donnees')\n",
    "repertoireImages  = os.path.join(repertoireProjet, 'repertoire.images')\n",
    "\n",
    "\n",
    "def controleExistenceRepertoire( repertoire, create_if_needed=True):\n",
    "    \"\"\"Voir si le répertoire existe. S'il n'existe pas il est créé.\"\"\"\n",
    "    path_exists = os.path.exists(repertoire)\n",
    "    if path_exists:\n",
    "        if not os.path.isdir(repertoire):\n",
    "            raise Exception(\"Trouvé le nom  \"+repertoire +\" mais c'est un fichier, pas un répertoire\")\n",
    "            # return False\n",
    "        return True\n",
    "    if create_if_needed:\n",
    "        os.makedirs(repertoire)\n",
    "\n",
    "def sauvegarderImage( fichier):\n",
    "    \"\"\"Enregistrez la figure. Appelez la méthode juste avant plt.show ().\"\"\"\n",
    "    controleExistenceRepertoire(repertoireImages)\n",
    "    plt.savefig(os.path.join(repertoireImages,\n",
    "                             fichier+f\"--{dt.now().strftime('%Y_%m_%d_%H.%M.%S')}.png\"), \n",
    "                             dpi=600, \n",
    "                             bbox_inches='tight')\n",
    "\n",
    "def sauvegarderImageSNS( sns_plot, fichier):\n",
    "    \"\"\"Enregistrez la figure. Appelez la méthode juste avant plt.show ().\"\"\"\n",
    "    controleExistenceRepertoire(repertoireImages)\n",
    "    fig = sns_plot.get_figure()\n",
    "    fig.savefig(os.path.join(repertoireImages,fichier+'.png'))\n",
    "    \n",
    "controleExistenceRepertoire(repertoireProjet);\n",
    "controleExistenceRepertoire(repertoireDonnees);\n",
    "controleExistenceRepertoire(repertoireImages);"
   ]
  }
 ],
 "metadata": {
  "kernelspec": {
   "display_name": "Python 3 (ipykernel)",
   "language": "python",
   "name": "python3"
  },
  "language_info": {
   "codemirror_mode": {
    "name": "ipython",
    "version": 3
   },
   "file_extension": ".py",
   "mimetype": "text/x-python",
   "name": "python",
   "nbconvert_exporter": "python",
   "pygments_lexer": "ipython3",
   "version": "3.10.0"
  }
 },
 "nbformat": 4,
 "nbformat_minor": 5
}
